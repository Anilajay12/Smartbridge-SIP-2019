{
 "cells": [
  {
   "cell_type": "code",
   "execution_count": 1,
   "metadata": {},
   "outputs": [],
   "source": [
    "import numpy as np\n",
    "import keras"
   ]
  },
  {
   "cell_type": "code",
   "execution_count": 2,
   "metadata": {},
   "outputs": [],
   "source": [
    "from keras.models import Sequential\n",
    "from keras.layers import Dense,Conv2D,MaxPooling2D,Flatten"
   ]
  },
  {
   "cell_type": "markdown",
   "metadata": {},
   "source": [
    "# Reading Image from Folder"
   ]
  },
  {
   "cell_type": "code",
   "execution_count": 3,
   "metadata": {},
   "outputs": [],
   "source": [
    "from keras.preprocessing.image import ImageDataGenerator\n",
    "train_datagen=ImageDataGenerator(rescale=1./255,shear_range=0.2,zoom_range=0.2,horizontal_flip=True)"
   ]
  },
  {
   "cell_type": "code",
   "execution_count": 4,
   "metadata": {},
   "outputs": [
    {
     "name": "stdout",
     "output_type": "stream",
     "text": [
      "Found 654 images belonging to 4 classes.\n"
     ]
    }
   ],
   "source": [
    "x_train=train_datagen.flow_from_directory(r\"C:\\Users\\anila\\Desktop\\5857_1166105_bundle_archive\\fruits-360\\Test\",target_size=(64,64),batch_size=32,class_mode='binary')"
   ]
  },
  {
   "cell_type": "code",
   "execution_count": 5,
   "metadata": {},
   "outputs": [
    {
     "data": {
      "text/plain": [
       "{'Apple Red 1': 0, 'Banana': 1, 'Orange': 2, 'Strawberry': 3}"
      ]
     },
     "execution_count": 5,
     "metadata": {},
     "output_type": "execute_result"
    }
   ],
   "source": [
    "x_train.class_indices"
   ]
  },
  {
   "cell_type": "code",
   "execution_count": 6,
   "metadata": {},
   "outputs": [
    {
     "data": {
      "text/plain": [
       "tensorflow.python.keras.preprocessing.image.DirectoryIterator"
      ]
     },
     "execution_count": 6,
     "metadata": {},
     "output_type": "execute_result"
    }
   ],
   "source": [
    "type(x_train)"
   ]
  },
  {
   "cell_type": "markdown",
   "metadata": {},
   "source": [
    "# CNN"
   ]
  },
  {
   "cell_type": "code",
   "execution_count": 7,
   "metadata": {},
   "outputs": [],
   "source": [
    "cnn_model=Sequential()"
   ]
  },
  {
   "cell_type": "markdown",
   "metadata": {},
   "source": [
    "# Conv Layer"
   ]
  },
  {
   "cell_type": "code",
   "execution_count": 8,
   "metadata": {},
   "outputs": [],
   "source": [
    "cnn_model.add(Conv2D(32,3,3,input_shape=(64,64,3),activation='relu'))\n",
    "cnn_model.add(MaxPooling2D(pool_size=(2,2)))              "
   ]
  },
  {
   "cell_type": "markdown",
   "metadata": {},
   "source": [
    "# Flatten"
   ]
  },
  {
   "cell_type": "code",
   "execution_count": 9,
   "metadata": {},
   "outputs": [],
   "source": [
    "cnn_model.add(Flatten())"
   ]
  },
  {
   "cell_type": "markdown",
   "metadata": {},
   "source": [
    "# Hidden Layer"
   ]
  },
  {
   "cell_type": "code",
   "execution_count": 10,
   "metadata": {},
   "outputs": [],
   "source": [
    "cnn_model.add(Dense(100,activation='relu'))"
   ]
  },
  {
   "cell_type": "markdown",
   "metadata": {},
   "source": [
    "# Output Layer"
   ]
  },
  {
   "cell_type": "code",
   "execution_count": 11,
   "metadata": {},
   "outputs": [],
   "source": [
    "cnn_model.add(Dense(4,activation='softmax'))"
   ]
  },
  {
   "cell_type": "markdown",
   "metadata": {},
   "source": [
    "# Compiling"
   ]
  },
  {
   "cell_type": "code",
   "execution_count": 12,
   "metadata": {},
   "outputs": [],
   "source": [
    "cnn_model.compile(optimizer='adam',loss='sparse_categorical_crossentropy',metrics=['accuracy'])"
   ]
  },
  {
   "cell_type": "markdown",
   "metadata": {},
   "source": [
    "# Fitting Model"
   ]
  },
  {
   "cell_type": "code",
   "execution_count": 20,
   "metadata": {
    "scrolled": true
   },
   "outputs": [
    {
     "name": "stdout",
     "output_type": "stream",
     "text": [
      "Epoch 1/5\n",
      " 21/200 [==>...........................] - ETA: 17s - loss: 0.1366 - accuracy: 0.9602WARNING:tensorflow:Your input ran out of data; interrupting training. Make sure that your dataset or generator can generate at least `steps_per_epoch * epochs` batches (in this case, 1000 batches). You may need to use the repeat() function when building your dataset.\n",
      " 21/200 [==>...........................] - 2s 97ms/step - loss: 0.1366 - accuracy: 0.9602\n"
     ]
    },
    {
     "data": {
      "text/plain": [
       "<tensorflow.python.keras.callbacks.History at 0x19a639e7760>"
      ]
     },
     "execution_count": 20,
     "metadata": {},
     "output_type": "execute_result"
    }
   ],
   "source": [
    "cnn_model.fit_generator(x_train,steps_per_epoch=200,epochs=5,validation_steps=50)"
   ]
  },
  {
   "cell_type": "markdown",
   "metadata": {},
   "source": [
    "# Save"
   ]
  },
  {
   "cell_type": "code",
   "execution_count": 14,
   "metadata": {},
   "outputs": [],
   "source": [
    "cnn_model.save(\"4fruit.h5\")"
   ]
  },
  {
   "cell_type": "markdown",
   "metadata": {},
   "source": [
    "# Loading saved model and predicting future"
   ]
  },
  {
   "cell_type": "code",
   "execution_count": 15,
   "metadata": {},
   "outputs": [],
   "source": [
    "from keras.models import load_model"
   ]
  },
  {
   "cell_type": "markdown",
   "metadata": {},
   "source": [
    "# PreProcessing\n"
   ]
  },
  {
   "cell_type": "code",
   "execution_count": 16,
   "metadata": {},
   "outputs": [],
   "source": [
    "#from keras.models import load_model\n",
    "#import numpy as np\n",
    "#import cv2\n",
    "#model=load_model('4fruit.h5')"
   ]
  },
  {
   "cell_type": "code",
   "execution_count": 17,
   "metadata": {},
   "outputs": [],
   "source": [
    "#from skimage.transform import resize\n",
    "#def detect(frame):\n",
    " #   try:\n",
    "  #      img=resize(frame,(64,64))\n",
    "   #     img=np.expand_dims(img,axis=0)\n",
    "    #    if(np.max(img)>1):\n",
    "     #       img=img/255.0\n",
    "      #  prediction=model.predict(img)\n",
    "       # print(prediction)\n",
    "        #prediction_class=model.predict_classes(img)\n",
    "        #print(prediction_class)\n",
    "    #except AttributeError:\n",
    "     #   print(\"Shape Not Found\")"
   ]
  },
  {
   "cell_type": "code",
   "execution_count": 19,
   "metadata": {
    "scrolled": true
   },
   "outputs": [
    {
     "name": "stdout",
     "output_type": "stream",
     "text": [
      "[3]\n",
      "[2]\n"
     ]
    }
   ],
   "source": [
    "\n",
    "import numpy as np\n",
    "from keras.preprocessing import image\n",
    "\n",
    "from tkinter import *\n",
    "from PIL import ImageTk, Image\n",
    "from tkinter import filedialog\n",
    "import os\n",
    "from keras.models import load_model\n",
    "classifier = load_model('4fruit.h5')\n",
    "classifier.compile(optimizer = 'adam', loss = 'sparse_categorical_crossentropy', metrics = ['accuracy'])\n",
    "root = Tk()\n",
    "root.geometry(\"960x720+300+150\")\n",
    "root.resizable(width=True, height=True)\n",
    "\n",
    "def openfn():\n",
    "    filename = filedialog.askopenfilename(title='open')\n",
    "    return filename\n",
    "def open_img():\n",
    "    x = openfn()\n",
    "    test_image = image.load_img(x, target_size = (64, 64))\n",
    "    test_image = image.img_to_array(test_image)\n",
    "    test_image = np.expand_dims(test_image, axis = 0)\n",
    "    result = classifier.predict_classes(test_image)\n",
    "    print(result)\n",
    "    index=[\"Apple\",\"Banana\",\"Orange\",\"Strawberry\"]\n",
    "    if(index[result[0]]==\"Apple\"):\n",
    "        label = Label( root, text=\"\\nPrediction : \"+index[result[0]]+\"\\n\\n\\tVITAMINS \\t QUANTITY(mg) \\n\\nVitamin B1\\t 0.017\\nVitamin B2\\t 0.026\\nVitamin B6\\t 0.041\\nVitamin C \\t 4.6\\nVitamin E \\t 0.18\\n\\n\\t MINERALS \\t QUANTITY(mg) \\n\\n Calcium\\t\\t 6\\n iron\\t\\t 0.12\\nmagnesium\\t 5\\nphosphorus\\t 11\\nPottasium\\t 107\\n\\n\")\n",
    "    elif(index[result[0]]=='Banana'):\n",
    "        label = Label( root, text=\"Prediction : \"+index[result[0]]+\"\\n\\n\\tVITAMINS \\t QUANTITY(mg) \\n\\nVitamin B1\\t 0.031\\nVitamin B2\\t 0.073\\nVitamin B3\\t 0.665\\nVitamin B5\\t 0.334\\nVitamin B6\\t 0.4\\nVitamin B9\\t 5\\nVitamin C\\t 10\\n\\n\\tMINERALS \\t QUANTITY(mg) \\n\\nIron\\t\\t 0.26\\nMagnesium\\t 27\\nManganese\\t 0.27\\nPhosphorous\\t 22\\nPottasium\\t 358\\nSodium\\t\\t 1\\nZinc\\t\\t 0.15\\n\\n\")\n",
    "    elif(index[result[0]]=='Orange'):\n",
    "        label = Label( root, text=\"Prediction : \"+index[result[0]]+\"\\n\\n\\tVITAMINS \\t QUANTITY(mg) \\n\\nVitamin A\\t 11ug\\nVitamin B1\\t 0.087\\nVitamin B2\\t 0.04\\nVitamin B3\\t 0.282\\nVitamin B5\\t 0.25\\nVitamin B6\\t 0.06ug\\nVitamin B9\\t 30ug\\nVitamin C\\t 53.2\\nVitamin E\\t 0.18\\n\\n\\tMINERALS \\t QUANTITY(mg) \\n\\nCalcium\\t\\t 40\\nIron\\t\\t 0.1\\nMagnesium\\t 10\\nManganese\\t 0.025\\nPhosphorous\\t 14\\nPottasium\\t 181\\nZinc\\t\\t 0.07\\n\\n\")\n",
    "    else:\n",
    "        label = Label( root, text=\"Prediction : \"+index[result[0]]+\"\\n\\n\\tVITAMINS \\t QUANTITY(mg)  \\n\\nVitamin B1\\t 0.024\\nVitamin B2\\t 0.386\\nVitamin B3\\t 0.386\\nVitamin B5\\t 0.125\\nVitamin B6\\t 0.047\\nVitamin B9\\t 24ug\\nVitamin C\\t 58.8\\nVitamin E\\t 0.29\\nVitamin k\\t 2.2ug\\n\\n\\tMINERALS \\t QUANTITY(mg) \\n\\nCalcium\\t\\t 16\\nIron\\t\\t 0.41\\nMagnesium\\t 13\\nManganese\\t 0.386\\nPhosphorous\\t 24\\nPottasium\\t 154\\nSodium\\t\\t 1\\nZinc\\t\\t 0.07\")\n",
    "    label.pack()\n",
    "    img = Image.open(x)\n",
    "    img = img.resize((350, 300), Image.ANTIALIAS)\n",
    "    img = ImageTk.PhotoImage(img)\n",
    "    panel = Label(root, image=img)\n",
    "    panel.image = img\n",
    "    panel.pack()\n",
    "\n",
    "btn = Button(root, text='Choose an Image', command=open_img).pack()\n",
    "\n",
    "root.mainloop()\n"
   ]
  },
  {
   "cell_type": "code",
   "execution_count": null,
   "metadata": {},
   "outputs": [],
   "source": []
  },
  {
   "cell_type": "code",
   "execution_count": null,
   "metadata": {},
   "outputs": [],
   "source": []
  },
  {
   "cell_type": "code",
   "execution_count": null,
   "metadata": {},
   "outputs": [],
   "source": []
  }
 ],
 "metadata": {
  "kernelspec": {
   "display_name": "Python 3",
   "language": "python",
   "name": "python3"
  },
  "language_info": {
   "codemirror_mode": {
    "name": "ipython",
    "version": 3
   },
   "file_extension": ".py",
   "mimetype": "text/x-python",
   "name": "python",
   "nbconvert_exporter": "python",
   "pygments_lexer": "ipython3",
   "version": "3.8.3"
  }
 },
 "nbformat": 4,
 "nbformat_minor": 2
}
